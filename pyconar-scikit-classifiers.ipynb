{
 "metadata": {
  "name": "pyconar-scikit-classifiers"
 }, 
 "nbformat": 2, 
 "worksheets": [
  {
   "cells": [
    {
     "cell_type": "code", 
     "collapsed": false, 
     "input": [
      "%pylab inline", 
      "from pylab import *", 
      "import numpy", 
      "from matplotlib.colors import ListedColormap, LinearSegmentedColormap", 
      "cmap_bold = ListedColormap(['#FF0000', '#00FF00', '#0000FF'])", 
      "cmap_light = LinearSegmentedColormap.from_list(\"rafa1\", ['#FF5555', '#5555FF'])", 
      "cmap_pastel = LinearSegmentedColormap.from_list(\"rafa2\", ['#FF8888', '#8888FF'])", 
      "figsize(15, 8)", 
      "def plot_classification(features, target, classifier=None, probabilities=False, header=None):", 
      "    classes = list(set(target))", 
      "    classes = {class_: classes.index(class_) for class_ in classes}", 
      "    targetids = [classes[class_] for class_ in target]", 
      "    X = numpy.array(features)", 
      "    x_min, x_max = X[:, 0].min() - 1, X[:, 0].max() + 1", 
      "    y_min, y_max = X[:, 1].min() - 1, X[:, 1].max() + 1", 
      "    xh = (x_max - x_min) / 250.0", 
      "    yh = (y_max - y_min) / 250.0", 
      "    xx, yy = np.meshgrid(numpy.arange(x_min, x_max, xh),", 
      "                         numpy.arange(y_min, y_max, yh))", 
      "    figure()", 
      "    if header:", 
      "        title(header, fontsize=24)", 
      "    if classifier is not None:", 
      "        if not probabilities:", 
      "            Z = classifier.predict(numpy.c_[xx.ravel(), yy.ravel()])", 
      "            Z = numpy.array([classes[class_] for class_ in Z])", 
      "        elif hasattr(classifier, \"decision_function\"):", 
      "            Z = classifier.decision_function(numpy.c_[xx.ravel(), yy.ravel()])", 
      "            Z = numpy.array([1 - p for p in Z])", 
      "        else:", 
      "            Z = classifier.predict_proba(numpy.c_[xx.ravel(), yy.ravel()])[:, 1]", 
      "            Z = numpy.array([1 - p for p in Z])", 
      "        Z = Z.reshape(xx.shape)", 
      "        if probabilities:", 
      "            pcolormesh(xx, yy, Z, cmap=cmap_light)", 
      "        else:", 
      "            pcolormesh(xx, yy, Z, cmap=cmap_pastel)", 
      "        score = classifier.score(features, target) * 100", 
      "        score = ('Accuracy %.2f%%' % score).lstrip('0')", 
      "        text(xx.max() - 1, yy.min() + 4, score,", 
      "                size=15, horizontalalignment='right')", 
      "    # Plot data points", 
      "    scatter(X[:, 0], X[:, 1], c=targetids, cmap=cmap_bold)", 
      "    xlim(xx.min(), xx.max())", 
      "    ylim(yy.min(), yy.max())", 
      "    show()"
     ], 
     "language": "python", 
     "outputs": [], 
     "prompt_number": 1
    }, 
    {
     "cell_type": "markdown", 
     "source": [
      "# Clasificaci\u00f3n", 
      "", 
      "### Datos", 
      "", 
      "Datos del stop-frisk de la policia de New York preprocesados para mostrar:", 
      "", 
      "- Sexo (M/F)", 
      "- Altura (en metros)", 
      "- Edad (en a\u00f1os)", 
      "- Peso (en kilogramos)"
     ]
    }, 
    {
     "cell_type": "code", 
     "collapsed": false, 
     "input": [
      "import json", 
      "import random", 
      "data = json.load(open(\"datos/sex_height_age_weight.json\"))", 
      "", 
      "random.seed(\"pycon ar 2013\")", 
      "random.shuffle(data)", 
      "", 
      "from pprint import pprint", 
      "pprint(data[9])", 
      "pprint(data[514])"
     ], 
     "language": "python", 
     "outputs": [], 
     "prompt_number": 2
    }, 
    {
     "cell_type": "markdown", 
     "source": [
      "### Entrada/Salida", 
      "", 
      "Esperamos aprender autom\u00e1ticamente una funci\u00f3n que toma una tupla (altura, peso) y devuelve \"M\" o \"F\""
     ]
    }, 
    {
     "cell_type": "code", 
     "collapsed": false, 
     "input": [
      "features = [(x[\"mts\"] * 100, x[\"kgs\"]) for x in data]", 
      "target = [x[\"sex\"] for x in data]", 
      "N = 500", 
      "", 
      "train_features = features[N:]", 
      "train_target = target[N:]", 
      "", 
      "test_features = features[:N]", 
      "test_target = target[:N]", 
      "", 
      "print (test_features[9], test_target[9])", 
      "print (train_features[14], train_target[14])"
     ], 
     "language": "python", 
     "outputs": [], 
     "prompt_number": 3
    }, 
    {
     "cell_type": "markdown", 
     "source": [
      "### Gr\u00e1ficos de los datos de entrenamiento", 
      "", 
      "Notar que los datos se superponen ligeramente pero que en general", 
      "los hombres son m\u00e1s altos y pesados que las mujeres. (Hombre rojo, mujeres azul)."
     ]
    }, 
    {
     "cell_type": "code", 
     "collapsed": false, 
     "input": [
      "plot_classification(train_features, train_target)"
     ], 
     "language": "python", 
     "outputs": [], 
     "prompt_number": 4
    }, 
    {
     "cell_type": "markdown", 
     "source": [
      "### Gr\u00e1ficos de los datos de evaluaci\u00f3n"
     ]
    }, 
    {
     "cell_type": "code", 
     "collapsed": false, 
     "input": [
      "plot_classification(test_features, test_target)"
     ], 
     "language": "python", 
     "outputs": [], 
     "prompt_number": 5
    }, 
    {
     "cell_type": "markdown", 
     "source": [
      "# K-Neareast neighbors", 
      "", 
      "**Estrategia**: Cuando hay que clasificar `(x, y)` se devuelve el label de los puntos de entranamiento m\u00e1s cercanos a `(x, y)`"
     ]
    }, 
    {
     "cell_type": "code", 
     "collapsed": true, 
     "input": [
      "from sklearn.neighbors import KNeighborsClassifier", 
      "", 
      "knn = KNeighborsClassifier(n_neighbors=10)", 
      "knn = knn.fit(train_features, train_target)"
     ], 
     "language": "python", 
     "outputs": [], 
     "prompt_number": 6
    }, 
    {
     "cell_type": "code", 
     "collapsed": false, 
     "input": [
      "print knn.predict((180, 85))  # Este soy yo, Rafael", 
      "print knn.predict((170, 65))  # Esta es mi pareja, Brenda (si se entera que puse su peso me mata)"
     ], 
     "language": "python", 
     "outputs": [], 
     "prompt_number": 7
    }, 
    {
     "cell_type": "markdown", 
     "source": [
      "### Evaluar!", 
      "", 
      "El m\u00e9todo `score` mide *accuracy*, que es la proporci\u00f3n de aciertos sobre el total de clasificaciones."
     ]
    }, 
    {
     "cell_type": "code", 
     "collapsed": false, 
     "input": [
      "print knn.score(test_features, test_target)", 
      "print knn.score(train_features, train_target)"
     ], 
     "language": "python", 
     "outputs": [], 
     "prompt_number": 8
    }, 
    {
     "cell_type": "markdown", 
     "source": [
      "", 
      "# Superficies de clasificacion", 
      "", 
      "*Oh yeah*"
     ]
    }, 
    {
     "cell_type": "code", 
     "collapsed": false, 
     "input": [
      "plot_classification(test_features, test_target, classifier=knn, probabilities=False)"
     ], 
     "language": "python", 
     "outputs": [], 
     "prompt_number": 15
    }, 
    {
     "cell_type": "markdown", 
     "source": [
      "# Support Vector Machine: Linear kernel"
     ]
    }, 
    {
     "cell_type": "code", 
     "collapsed": false, 
     "input": [
      "from sklearn import svm", 
      "", 
      "svc = svm.SVC(kernel='linear')", 
      "svc = svc.fit(train_features, train_target)", 
      "", 
      "plot_classification(test_features, test_target, classifier=svc, probabilities=False)"
     ], 
     "language": "python", 
     "outputs": [], 
     "prompt_number": 10
    }, 
    {
     "cell_type": "markdown", 
     "source": [
      "# Support Vector Machine: radial basis function kernel"
     ]
    }, 
    {
     "cell_type": "code", 
     "collapsed": false, 
     "input": [
      "from sklearn import svm", 
      "", 
      "svc = svm.SVC(kernel='rbf', gamma=0.1)", 
      "svc = svc.fit(train_features, train_target)", 
      "", 
      "plot_classification(test_features, test_target, classifier=svc, probabilities=False)"
     ], 
     "language": "python", 
     "outputs": [], 
     "prompt_number": 11
    }, 
    {
     "cell_type": "markdown", 
     "source": [
      "# Naive Bayes: Gaussian"
     ]
    }, 
    {
     "cell_type": "code", 
     "collapsed": false, 
     "input": [
      "from sklearn.naive_bayes import GaussianNB", 
      "", 
      "gnb = GaussianNB()", 
      "gnb = gnb.fit(train_features, train_target)", 
      "", 
      "plot_classification(test_features, test_target, classifier=gnb, probabilities=False)"
     ], 
     "language": "python", 
     "outputs": [], 
     "prompt_number": 12
    }, 
    {
     "cell_type": "markdown", 
     "source": [
      "# Decision Tree"
     ]
    }, 
    {
     "cell_type": "code", 
     "collapsed": false, 
     "input": [
      "from sklearn import tree", 
      "", 
      "dtree = tree.DecisionTreeClassifier()", 
      "dtree = dtree.fit(train_features, train_target)", 
      "", 
      "plot_classification(test_features, test_target, classifier=dtree, probabilities=False)"
     ], 
     "language": "python", 
     "outputs": [], 
     "prompt_number": 13
    }, 
    {
     "cell_type": "code", 
     "collapsed": true, 
     "input": [], 
     "language": "python", 
     "outputs": []
    }
   ]
  }
 ]
}