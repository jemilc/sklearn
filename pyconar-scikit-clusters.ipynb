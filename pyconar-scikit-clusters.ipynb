{
 "metadata": {
  "name": "pyconar-scikit-clusters"
 }, 
 "nbformat": 2, 
 "worksheets": [
  {
   "cells": [
    {
     "cell_type": "code", 
     "collapsed": false, 
     "input": [
      "%pylab inline", 
      "from pylab import *", 
      "import numpy", 
      "from collections import defaultdict", 
      "from itertools import cycle", 
      "figsize(15, 8)", 
      "def plot_cluster(data, target=None):", 
      "    colors = cycle(\"bgrcmykbgrcmykbgrcmykbgrcmyk\")", 
      "    if target is None:", 
      "        colors = cycle(\"k\")", 
      "        target = cycle(\"x\")", 
      "    clusters = defaultdict(list)", 
      "    for point, label in zip(data, target):", 
      "        clusters[label].append(point)", 
      "    figure()", 
      "    for label, points in clusters.iteritems():", 
      "        X = [x[0] for x in points]", 
      "        Y = [x[1] for x in points]", 
      "        color = next(colors)", 
      "        plot(X, Y, color + \".\")", 
      "    show()"
     ], 
     "language": "python", 
     "outputs": [], 
     "prompt_number": 5
    }, 
    {
     "cell_type": "markdown", 
     "source": [
      "# Clustering", 
      "", 
      "### Datos", 
      "", 
      "Datos sint\u00e9ticos que continenen:", 
      "", 
      " - Un n\u00famero *x*", 
      " - Un n\u00famero *y*", 
      " - Un string que lo asocia a un cluster (esto existe solo porque el dataset es sint\u00e9tico)", 
      "", 
      "Y est\u00e1n armados para agruparse en puntos, lineas y/o circulos."
     ]
    }, 
    {
     "cell_type": "code", 
     "collapsed": true, 
     "input": [
      "import json", 
      "data = json.load(open(\"datos/syntetic_clusters.json\"))", 
      "features = [(x[\"x\"], x[\"y\"]) for x in data]", 
      "target = [x[\"name\"] for x in data]"
     ], 
     "language": "python", 
     "outputs": [], 
     "prompt_number": 6
    }, 
    {
     "cell_type": "markdown", 
     "source": [
      "### Entrada/Salida", 
      "", 
      "Esperamos aprender autom\u00e1ticamente una funci\u00f3n que toma una tupla (x, y) y devuelve un entero 0, 1 \u00f3 2."
     ]
    }, 
    {
     "cell_type": "code", 
     "collapsed": false, 
     "input": [
      "for i in [0, 2, 4]:", 
      "    x, y = features[i]", 
      "    print \"{:.2f}\\t{:.2f}\\t{}\".format(x, y, target[i])", 
      "", 
      "plot_cluster(features)"
     ], 
     "language": "python", 
     "outputs": [], 
     "prompt_number": 7
    }, 
    {
     "cell_type": "markdown", 
     "source": [
      "# K Means clustering"
     ]
    }, 
    {
     "cell_type": "markdown", 
     "source": [
      "**Estrategia**:", 
      "", 
      "1. Eleg\u00edr *K* centros de cluster al azar", 
      "2. Agrupar los puntos con su centro mas cercano", 
      "3. Tomar la posici\u00f3n promedio de cada cluster como el nuevo centro.", 
      "4. Si algun punto cambio de cluster en 2, volver a 2."
     ]
    }, 
    {
     "cell_type": "code", 
     "collapsed": true, 
     "input": [
      "from sklearn.cluster import KMeans", 
      "kmeans = KMeans(n_clusters=3)", 
      "kmeans.fit(features)", 
      "", 
      "labels = kmeans.labels_"
     ], 
     "language": "python", 
     "outputs": [], 
     "prompt_number": 8
    }, 
    {
     "cell_type": "code", 
     "collapsed": false, 
     "input": [
      "for i in [0, 2, 4]:", 
      "    x, y = features[i]", 
      "    print \"{:.2f}\\t{:.2f}\\t{}\".format(x, y, labels[i])", 
      "", 
      "plot_cluster(features, kmeans.labels_)"
     ], 
     "language": "python", 
     "outputs": [], 
     "prompt_number": 9
    }, 
    {
     "cell_type": "markdown", 
     "source": [
      "# Datos m\u00e1s desafiantes"
     ]
    }, 
    {
     "cell_type": "code", 
     "collapsed": false, 
     "input": [
      "harddata = json.load(open(\"datos/hard_syntetic_clusters.json\"))", 
      "hardfeatures = [(x[\"x\"], x[\"y\"]) for x in harddata]", 
      "hardtarget = [x[\"name\"] for x in harddata]", 
      "plot_cluster(hardfeatures)"
     ], 
     "language": "python", 
     "outputs": [], 
     "prompt_number": 10
    }, 
    {
     "cell_type": "code", 
     "collapsed": false, 
     "input": [
      "from sklearn.cluster import KMeans", 
      "kmeans = KMeans(n_clusters=3)", 
      "kmeans.fit(hardfeatures)", 
      "plot_cluster(hardfeatures, kmeans.labels_)"
     ], 
     "language": "python", 
     "outputs": [], 
     "prompt_number": 11
    }, 
    {
     "cell_type": "code", 
     "collapsed": false, 
     "input": [
      "from sklearn.cluster import DBSCAN", 
      "dbscan = DBSCAN(eps=1.50, min_samples=20)", 
      "dbscan.fit(numpy.array(hardfeatures))", 
      "plot_cluster(hardfeatures, dbscan.labels_)"
     ], 
     "language": "python", 
     "outputs": [], 
     "prompt_number": 12
    }, 
    {
     "cell_type": "code", 
     "collapsed": true, 
     "input": [], 
     "language": "python", 
     "outputs": []
    }
   ]
  }
 ]
}