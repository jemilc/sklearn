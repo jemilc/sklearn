{
 "metadata": {
  "name": "pyconar-scikit-regression"
 }, 
 "nbformat": 2, 
 "worksheets": [
  {
   "cells": [
    {
     "cell_type": "code", 
     "collapsed": false, 
     "input": [
      "%pylab inline", 
      "from pylab import *", 
      "import numpy", 
      "from itertools import cycle", 
      "figsize(15, 8)", 
      "def plot_regression(*lines):", 
      "    colors = cycle(\"bgrcmykbgrcmykbgrcmykbgrcmyk\")", 
      "    figure()", 
      "    for data in lines:", 
      "        X = numpy.array([x[0] for x in data])", 
      "        Y = numpy.array([x[1] for x in data])", 
      "        color = next(colors)", 
      "        plot(X, Y, color + \"-\")", 
      "    show()"
     ], 
     "language": "python", 
     "outputs": [], 
     "prompt_number": 24
    }, 
    {
     "cell_type": "markdown", 
     "source": [
      "# Regresi\u00f3n", 
      "", 
      "### Datos", 
      "", 
      "Datos de AUSA sobre los autos que pasan por el peaje de Avellaneda. Lo datos tienen", 
      "", 
      "- Fecha: Un string en formato yyyy-mm-dd", 
      "- Hora: Un n\u00famero entero entre 0 y 23", 
      "- Cantidad: La cantidad de autos que pasaron durante esa hora."
     ]
    }, 
    {
     "cell_type": "code", 
     "collapsed": true, 
     "input": [
      "import json", 
      "data = json.load(open(\"datos/fecha_peaje_hora_cantidad.json\"))", 
      "", 
      "def getfecha(fecha):", 
      "    return [(x[\"hora\"], x[\"cantidad\"]) for x in data[fecha]]", 
      "", 
      "def gettraining(fechas):", 
      "    features = []", 
      "    target = []", 
      "    for fecha in fechas:", 
      "        puntos = getfecha(fecha)", 
      "        assert puntos[3][0] == 3", 
      "        autos_a_las_3 = puntos[3][1]", 
      "        for hora, cantidad in puntos:", 
      "            features.append((autos_a_las_3, float(hora)))", 
      "            target.append(cantidad)", 
      "    return features, target"
     ], 
     "language": "python", 
     "outputs": [], 
     "prompt_number": 25
    }, 
    {
     "cell_type": "code", 
     "collapsed": false, 
     "input": [
      "mes = [getfecha(\"2012-01-01\"),", 
      "       getfecha(\"2012-01-02\"),", 
      "       getfecha(\"2012-01-08\"),", 
      "       getfecha(\"2012-01-10\"),]", 
      "plot_regression(*mes)"
     ], 
     "language": "python", 
     "outputs": [], 
     "prompt_number": 26
    }, 
    {
     "cell_type": "markdown", 
     "source": [
      "### Entrada/Salida", 
      "", 
      "Esperamos aprender una funci\u00f3n tal que su:", 
      "", 
      "- **Entrada**: La hora que nos interesa conocer y La cantidad de autos que pasaron por el peaje a las 3am.", 
      "- **Salida**: La cantidad de autos que pasar\u00e1n a la hora elegida en la entrada."
     ]
    }, 
    {
     "cell_type": "code", 
     "collapsed": false, 
     "input": [
      "features, target = gettraining(fecha for fecha in data if not fecha.startswith(\"2013\"))", 
      "print features[:24]", 
      "print target[:24]"
     ], 
     "language": "python", 
     "outputs": [], 
     "prompt_number": 27
    }, 
    {
     "cell_type": "markdown", 
     "source": [
      "# K-Neareast neighbors *de nuevo!*", 
      "", 
      "**Estrategia**: Cuando hay que estimar `(x, y)` se devuelve el promedio de los valores de los puntos de entranamiento m\u00e1s cercanos a `(x, y)`"
     ]
    }, 
    {
     "cell_type": "code", 
     "collapsed": false, 
     "input": [
      "from sklearn.neighbors import KNeighborsRegressor", 
      "", 
      "knn = KNeighborsRegressor(2, warn_on_equidistant=False)", 
      "knn.fit(features, target)", 
      "", 
      "fecha = \"2013-01-06\"", 
      "gold = getfecha(fecha)", 
      "testin, _ = gettraining([fecha])", 
      "testout = knn.predict(testin)", 
      "test = [(hora, cantidad) for (_, hora), cantidad in zip(testin, testout)]", 
      "plot_regression(gold, test)"
     ], 
     "language": "python", 
     "outputs": [], 
     "prompt_number": 28
    }, 
    {
     "cell_type": "code", 
     "collapsed": false, 
     "input": [
      "from sklearn.tree import DecisionTreeRegressor", 
      "", 
      "tree = DecisionTreeRegressor()", 
      "tree.fit(features, target)", 
      "", 
      "fecha = \"2013-01-06\"", 
      "gold = getfecha(fecha)", 
      "testin, _ = gettraining([fecha])", 
      "testout = tree.predict(testin)", 
      "test = [(hora, cantidad) for (_, hora), cantidad in zip(testin, testout)]", 
      "plot_regression(gold, test)"
     ], 
     "language": "python", 
     "outputs": [], 
     "prompt_number": 29
    }, 
    {
     "cell_type": "code", 
     "collapsed": true, 
     "input": [], 
     "language": "python", 
     "outputs": []
    }
   ]
  }
 ]
}